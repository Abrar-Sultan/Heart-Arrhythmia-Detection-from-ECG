{
 "cells": [
  {
   "cell_type": "markdown",
   "metadata": {
    "id": "t7utW4in4azV"
   },
   "source": [
    "**1) Clone the Darknet**\n",
    "\n"
   ]
  },
  {
   "cell_type": "code",
   "execution_count": null,
   "metadata": {
    "colab": {
     "base_uri": "https://localhost:8080/"
    },
    "id": "e03U7Zi-qMr2",
    "outputId": "12d21aa4-ba98-4eb1-c846-2b74b6131604"
   },
   "outputs": [],
   "source": [
    "##\n",
    "!git clone https://github.com/AlexeyAB/darknet"
   ]
  },
  {
   "cell_type": "markdown",
   "metadata": {
    "id": "7gDOF3mU-TAn"
   },
   "source": [
    "**2) Compile Darknet using Nvidia GPU**\n"
   ]
  },
  {
   "cell_type": "code",
   "execution_count": null,
   "metadata": {
    "colab": {
     "base_uri": "https://localhost:8080/"
    },
    "id": "5H-Taj06Tw1c",
    "outputId": "d89ad001-44e0-4a12-d4fc-8ba0e49db1d8"
   },
   "outputs": [],
   "source": [
    "##\n",
    "# change makefile to have GPU and OPENCV enabled\n",
    "%cd darknet\n",
    "!sed -i 's/OPENCV=0/OPENCV=1/' Makefile\n",
    "!sed -i 's/GPU=0/GPU=1/' Makefile\n",
    "!sed -i 's/CUDNN=0/CUDNN=1/' Makefile\n",
    "!make"
   ]
  },
  {
   "cell_type": "markdown",
   "metadata": {
    "id": "gAOLtA_qI9vF"
   },
   "source": [
    "**3) Configure Darknet network for training YOLO V3**"
   ]
  },
  {
   "cell_type": "code",
   "execution_count": null,
   "metadata": {
    "id": "s-RpscgU853t"
   },
   "outputs": [],
   "source": [
    "##\n",
    "!cp cfg/yolov3.cfg cfg/yolov3_training.cfg"
   ]
  },
  {
   "cell_type": "code",
   "execution_count": null,
   "metadata": {
    "id": "5ZgVQRop_vwR"
   },
   "outputs": [],
   "source": [
    "##\n",
    "!sed -i 's/batch=1/batch=64/' cfg/yolov3_training.cfg\n",
    "!sed -i 's/subdivisions=1/subdivisions=16/' cfg/yolov3_training.cfg\n",
    "!sed -i 's/max_batches = 500200/max_batches = 4000/' cfg/yolov3_training.cfg\n",
    "!sed -i '610 s@classes=80@classes=1@' cfg/yolov3_training.cfg\n",
    "!sed -i '696 s@classes=80@classes=1@' cfg/yolov3_training.cfg\n",
    "!sed -i '783 s@classes=80@classes=1@' cfg/yolov3_training.cfg\n",
    "!sed -i '603 s@filters=255@filters=18@' cfg/yolov3_training.cfg\n",
    "!sed -i '689 s@filters=255@filters=18@' cfg/yolov3_training.cfg\n",
    "!sed -i '776 s@filters=255@filters=18@' cfg/yolov3_training.cfg"
   ]
  },
  {
   "cell_type": "code",
   "execution_count": null,
   "metadata": {
    "colab": {
     "base_uri": "https://localhost:8080/"
    },
    "id": "nscRN-X2Mr3d",
    "outputId": "ac6aba64-9ed6-42c8-9fcf-f50b20e84a3c"
   },
   "outputs": [],
   "source": [
    "##\n",
    "# Create folder on google drive so that we can save there the weights\n",
    "!mkdir \"Path\""
   ]
  },
  {
   "cell_type": "code",
   "execution_count": null,
   "metadata": {
    "colab": {
     "base_uri": "https://localhost:8080/"
    },
    "id": "7AIBw_psIclz",
    "outputId": "a76340d3-ca61-4494-a133-b67927439140"
   },
   "outputs": [],
   "source": [
    "##\n",
    "!echo \"Single beat\" > data/obj.names\n",
    "!echo -e 'classes= 1\\ntrain  = data/train.txt\\nvalid  = data/test.txt\\nnames = data/obj.names\\nbackup = /mydrive/yolov3' > data/obj.data\n",
    "!mkdir data/obj"
   ]
  },
  {
   "cell_type": "code",
   "execution_count": null,
   "metadata": {
    "colab": {
     "base_uri": "https://localhost:8080/"
    },
    "id": "eZlkzFMW7I_N",
    "outputId": "c419ddc8-8264-48c8-cec4-c2c66bb818ec"
   },
   "outputs": [],
   "source": [
    "##\n",
    "# Download weights darknet model 53\n",
    "!wget https://pjreddie.com/media/files/darknet53.conv.74"
   ]
  },
  {
   "cell_type": "markdown",
   "metadata": {
    "id": "9RbVKJjoncW2"
   },
   "source": [
    "**4) Extract Images**\n",
    "\n",
    "The images need to be inside a zip archive called \"images.zip\" and they need to be inside the folder \"yolov3\" on Google Drive"
   ]
  },
  {
   "cell_type": "code",
   "execution_count": null,
   "metadata": {
    "colab": {
     "base_uri": "https://localhost:8080/"
    },
    "id": "jhb5nZvsQ_96",
    "outputId": "b1ce891a-35c8-47ee-ee9a-3727902dee64"
   },
   "outputs": [],
   "source": [
    "##\n",
    "!unzip /mydrive/yolov3/images.zip -d data/obj"
   ]
  },
  {
   "cell_type": "code",
   "execution_count": null,
   "metadata": {
    "colab": {
     "base_uri": "https://localhost:8080/"
    },
    "id": "UEHX41oomZjB",
    "outputId": "ebcda066-125c-4cd1-ec93-2f12f677a4c8"
   },
   "outputs": [],
   "source": [
    "##\n",
    "import os\n",
    "import glob\n",
    "import xml.etree.ElementTree as ET\n",
    "\n",
    "dirpath = r\"data/obj/\"  # The directory where the xml file was originally stored\n",
    "newdir = r\"data/obj/\"  # The txt directory formed after modifying the label\n",
    "\n",
    "if not os.path.exists(newdir):\n",
    "    os.makedirs(newdir)\n",
    "\n",
    "dict_info = {'smoke': 0}  # There are several attributes fill in several\n",
    "\n",
    "for fp in os.listdir(dirpath):\n",
    "    if fp.endswith('.xml'):\n",
    "        root = ET.parse(os.path.join(dirpath, fp)).getroot()\n",
    "\n",
    "        xmin, ymin, xmax, ymax = 0, 0, 0, 0\n",
    "        sz = root.find('size')\n",
    "        width = float(sz[0].text)\n",
    "        height = float(sz[1].text)\n",
    "        filename = root.find('filename').text\n",
    "        for child in root.findall('object'):  # Find all the boxes in the picture\n",
    "\n",
    "            sub = child.find('bndbox')  # Find the label value of the box and read it\n",
    "            label = child.find('name').text\n",
    "            label_ = dict_info.get(label)\n",
    "            if label_:\n",
    "                label_ = label_\n",
    "            else:\n",
    "                label_ = 0\n",
    "            xmin = float(sub[0].text)\n",
    "            ymin = float(sub[1].text)\n",
    "            xmax = float(sub[2].text)\n",
    "            ymax = float(sub[3].text)\n",
    "            try:  # Convert to yolov3's label format, which needs to be normalized to (0-1)\n",
    "                x_center = (xmin + xmax) / (2 * width)\n",
    "                x_center = '%.6f' % x_center\n",
    "                y_center = (ymin + ymax) / (2 * height)\n",
    "                y_center = '%.6f' % y_center\n",
    "                w = (xmax - xmin) / width\n",
    "                w = '%.6f' % w\n",
    "                h = (ymax - ymin) / height\n",
    "                h = '%.6f' % h\n",
    "            except ZeroDivisionError:\n",
    "                print(filename, 'There is a problem with the width')\n",
    "            with open(os.path.join(newdir, fp.split('.xml')[0] + '.txt'), 'a+') as f:\n",
    "                f.write(' '.join([str(label_), str(x_center), str(y_center), str(w), str(h) + '\\n']))\n",
    "print('ok')"
   ]
  },
  {
   "cell_type": "code",
   "execution_count": null,
   "metadata": {
    "colab": {
     "base_uri": "https://localhost:8080/"
    },
    "id": "7o8_c_Vsm6m7",
    "outputId": "9326e687-fa86-41e9-d8e2-a0b54d014a16"
   },
   "outputs": [],
   "source": [
    "##\n",
    "# We're going to convert the class index on the .txt files. As we're working with only one class, it's supposed to be class 0.\n",
    "# If the index is different from 0 then we're going to change it.\n",
    "import glob\n",
    "import os\n",
    "import re\n",
    "\n",
    "txt_file_paths = glob.glob(r\"Path/*.txt\")\n",
    "for i, file_path in enumerate(txt_file_paths):\n",
    "    # get image size\n",
    "    with open(file_path, \"r\") as f_o:\n",
    "        lines = f_o.readlines()\n",
    "\n",
    "        text_converted = []\n",
    "        for line in lines:\n",
    "            print(line)\n",
    "            numbers = re.findall(\"[0-9.]+\", line)\n",
    "            print(numbers)\n",
    "            if numbers:\n",
    "\n",
    "                # Define coordinates\n",
    "                text = \"{} {} {} {} {}\".format(0, numbers[1], numbers[2], numbers[3], numbers[4])\n",
    "                text_converted.append(text)\n",
    "                print(i, file_path)\n",
    "                print(text)\n",
    "        # Write file\n",
    "        with open(file_path, 'w') as fp:\n",
    "            for item in text_converted:\n",
    "                fp.writelines(\"%s\\n\" % item)"
   ]
  },
  {
   "cell_type": "code",
   "execution_count": null,
   "metadata": {
    "colab": {
     "base_uri": "https://localhost:8080/"
    },
    "id": "5I_0ht7ITMUu",
    "outputId": "127f7a82-f37d-465f-f659-2e4d26d6a313"
   },
   "outputs": [],
   "source": [
    "##\n",
    "import glob\n",
    "images_list = glob.glob(\"Path/*.png\")\n",
    "print(images_list)"
   ]
  },
  {
   "cell_type": "code",
   "execution_count": null,
   "metadata": {
    "id": "EzygoAtMSnon"
   },
   "outputs": [],
   "source": [
    "##\n",
    "#Create training.txt file\n",
    "file = open(\"data/train.txt\", \"w\") \n",
    "file.write(\"\\n\".join(images_list)) \n",
    "file.close() "
   ]
  },
  {
   "cell_type": "markdown",
   "metadata": {
    "id": "CeSiuLrXoAjc"
   },
   "source": [
    "**6) Start the training**"
   ]
  },
  {
   "cell_type": "code",
   "execution_count": null,
   "metadata": {
    "colab": {
     "base_uri": "https://localhost:8080/"
    },
    "id": "S3_g3jclUzMm",
    "outputId": "0ced9add-d68e-429a-b984-57ac015d69a4"
   },
   "outputs": [],
   "source": [
    "##\n",
    "# Start the training\n",
    "!./darknet detector train data/obj.data cfg/yolov3_training.cfg darknet53.conv.74 -dont_show"
   ]
  }
 ],
 "metadata": {
  "accelerator": "GPU",
  "colab": {
   "collapsed_sections": [],
   "name": "Train_YoloV3 .ipynb",
   "provenance": []
  },
  "kernelspec": {
   "display_name": "Python 3",
   "language": "python",
   "name": "python3"
  },
  "language_info": {
   "codemirror_mode": {
    "name": "ipython",
    "version": 3
   },
   "file_extension": ".py",
   "mimetype": "text/x-python",
   "name": "python",
   "nbconvert_exporter": "python",
   "pygments_lexer": "ipython3",
   "version": "3.7.6"
  }
 },
 "nbformat": 4,
 "nbformat_minor": 1
}
